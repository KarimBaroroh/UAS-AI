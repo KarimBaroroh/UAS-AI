{
 "cells": [
  {
   "cell_type": "code",
   "execution_count": 9,
   "metadata": {},
   "outputs": [],
   "source": [
    "from sklearn.datasets import load_digits\n",
    "from sklearn.model_selection import train_test_split\n",
    "from sklearn.neural_network import MLPClassifier\n",
    "from sklearn.metrics import accuracy_score\n",
    "from sklearn.metrics import confusion_matrix"
   ]
  },
  {
   "cell_type": "code",
   "execution_count": 10,
   "metadata": {},
   "outputs": [],
   "source": [
    "digits = load_digits()"
   ]
  },
  {
   "cell_type": "code",
   "execution_count": 11,
   "metadata": {},
   "outputs": [
    {
     "data": {
      "text/plain": [
       "(1797, 64)"
      ]
     },
     "execution_count": 11,
     "metadata": {},
     "output_type": "execute_result"
    }
   ],
   "source": [
    "digits.data.shape"
   ]
  },
  {
   "cell_type": "code",
   "execution_count": 12,
   "metadata": {},
   "outputs": [
    {
     "data": {
      "text/plain": [
       "array([ 0.,  0., 10., 14., 11.,  3.,  0.,  0.,  0.,  4., 16., 13.,  6.,\n",
       "       14.,  1.,  0.,  0.,  4., 16.,  2.,  0., 11.,  7.,  0.,  0.,  8.,\n",
       "       16.,  0.,  0., 10.,  5.,  0.,  0.,  8., 16.,  0.,  0., 14.,  4.,\n",
       "        0.,  0.,  8., 16.,  0.,  1., 16.,  1.,  0.,  0.,  4., 16.,  1.,\n",
       "       11., 15.,  0.,  0.,  0.,  0., 11., 16., 12.,  3.,  0.,  0.])"
      ]
     },
     "execution_count": 12,
     "metadata": {},
     "output_type": "execute_result"
    }
   ],
   "source": [
    "digits.data[30]"
   ]
  },
  {
   "cell_type": "code",
   "execution_count": 13,
   "metadata": {},
   "outputs": [
    {
     "data": {
      "text/plain": [
       "array([0, 1, 2, 3, 4, 5, 6, 7, 8, 9])"
      ]
     },
     "execution_count": 13,
     "metadata": {},
     "output_type": "execute_result"
    }
   ],
   "source": [
    "digits.target_names"
   ]
  },
  {
   "cell_type": "code",
   "execution_count": 14,
   "metadata": {},
   "outputs": [
    {
     "data": {
      "text/plain": [
       "(1797,)"
      ]
     },
     "execution_count": 14,
     "metadata": {},
     "output_type": "execute_result"
    }
   ],
   "source": [
    "digits.target.shape"
   ]
  },
  {
   "cell_type": "code",
   "execution_count": 15,
   "metadata": {},
   "outputs": [
    {
     "data": {
      "text/plain": [
       "0"
      ]
     },
     "execution_count": 15,
     "metadata": {},
     "output_type": "execute_result"
    }
   ],
   "source": [
    "digits.target[30]"
   ]
  },
  {
   "cell_type": "code",
   "execution_count": 16,
   "metadata": {},
   "outputs": [
    {
     "data": {
      "text/plain": [
       "<matplotlib.image.AxesImage at 0x3017cb0>"
      ]
     },
     "execution_count": 16,
     "metadata": {},
     "output_type": "execute_result"
    },
    {
     "data": {
      "text/plain": [
       "<Figure size 432x288 with 0 Axes>"
      ]
     },
     "metadata": {},
     "output_type": "display_data"
    },
    {
     "data": {
      "image/png": "[encoded data removed]",
      "text/plain": [
       "<Figure size 288x288 with 1 Axes>"
      ]
     },
     "metadata": {
      "needs_background": "light"
     },
     "output_type": "display_data"
    }
   ],
   "source": [
    "import matplotlib.pyplot as plt \n",
    "plt.gray() \n",
    "plt.matshow(digits.images[30]) "
   ]
  },
  {
   "cell_type": "code",
   "execution_count": 17,
   "metadata": {},
   "outputs": [],
   "source": [
    "X = digits.data\n",
    "y = digits.target\n",
    "# Membagi data training dan testing(80:20)\n",
    "x_train, x_test, y_train, y_test = train_test_split(X,y, test_size= 0.2, random_state=1)"
   ]
  },
  {
   "cell_type": "code",
   "execution_count": 18,
   "metadata": {},
   "outputs": [
    {
     "data": {
      "text/plain": [
       "(1437, 64)"
      ]
     },
     "execution_count": 18,
     "metadata": {},
     "output_type": "execute_result"
    }
   ],
   "source": [
    "x_train.shape"
   ]
  },
  {
   "cell_type": "code",
   "execution_count": 19,
   "metadata": {},
   "outputs": [
    {
     "data": {
      "text/plain": [
       "(360, 64)"
      ]
     },
     "execution_count": 19,
     "metadata": {},
     "output_type": "execute_result"
    }
   ],
   "source": [
    "x_test.shape"
   ]
  },
  {
   "cell_type": "code",
   "execution_count": 107,
   "metadata": {},
   "outputs": [],
   "source": [
    "#clasfikasi digits\n",
    "mlp = MLPClassifier(hidden_layer_sizes=(15, ),  max_iter=150, alpha=0.0001,activation='relu',\n",
    "                     solver='adam', verbose=20,tol=0.000000001)"
   ]
  },
  {
   "cell_type": "code",
   "execution_count": 108,
   "metadata": {},
   "outputs": [
    {
     "name": "stdout",
     "output_type": "stream",
     "text": [
      "Iteration 1, loss = 11.77226271\n",
      "Iteration 2, loss = 8.02608830\n",
      "Iteration 3, loss = 6.03646742\n",
      "Iteration 4, loss = 4.88112926\n",
      "Iteration 5, loss = 4.06835759\n",
      "Iteration 6, loss = 3.45804207\n",
      "Iteration 7, loss = 3.05025087\n",
      "Iteration 8, loss = 2.73850627\n",
      "Iteration 9, loss = 2.50054438\n",
      "Iteration 10, loss = 2.30983420\n",
      "Iteration 11, loss = 2.15985669\n",
      "Iteration 12, loss = 2.03422339\n",
      "Iteration 13, loss = 1.92546826\n",
      "Iteration 14, loss = 1.82875128\n",
      "Iteration 15, loss = 1.75091695\n",
      "Iteration 16, loss = 1.67969182\n",
      "Iteration 17, loss = 1.61920628\n",
      "Iteration 18, loss = 1.56513789\n",
      "Iteration 19, loss = 1.51175483\n",
      "Iteration 20, loss = 1.46636491\n",
      "Iteration 21, loss = 1.42128433\n",
      "Iteration 22, loss = 1.37986139\n",
      "Iteration 23, loss = 1.33960173\n",
      "Iteration 24, loss = 1.29781057\n",
      "Iteration 25, loss = 1.25349905\n",
      "Iteration 26, loss = 1.21021187\n",
      "Iteration 27, loss = 1.16506486\n",
      "Iteration 28, loss = 1.11902901\n",
      "Iteration 29, loss = 1.07297350\n",
      "Iteration 30, loss = 1.02795696\n",
      "Iteration 31, loss = 0.98492191\n",
      "Iteration 32, loss = 0.94306828\n",
      "Iteration 33, loss = 0.90496277\n",
      "Iteration 34, loss = 0.86288995\n",
      "Iteration 35, loss = 0.82628089\n",
      "Iteration 36, loss = 0.78947660\n",
      "Iteration 37, loss = 0.75385681\n",
      "Iteration 38, loss = 0.71949224\n",
      "Iteration 39, loss = 0.68696925\n",
      "Iteration 40, loss = 0.65622462\n",
      "Iteration 41, loss = 0.62753211\n",
      "Iteration 42, loss = 0.60006121\n",
      "Iteration 43, loss = 0.57592221\n",
      "Iteration 44, loss = 0.55131829\n",
      "Iteration 45, loss = 0.53033029\n",
      "Iteration 46, loss = 0.50860279\n",
      "Iteration 47, loss = 0.49081850\n",
      "Iteration 48, loss = 0.47294703\n",
      "Iteration 49, loss = 0.45574546\n",
      "Iteration 50, loss = 0.44026376\n",
      "Iteration 51, loss = 0.42467251\n",
      "Iteration 52, loss = 0.40942137\n",
      "Iteration 53, loss = 0.39636940\n",
      "Iteration 54, loss = 0.38508316\n",
      "Iteration 55, loss = 0.37352632\n",
      "Iteration 56, loss = 0.36385894\n",
      "Iteration 57, loss = 0.35316584\n",
      "Iteration 58, loss = 0.34336883\n",
      "Iteration 59, loss = 0.33462209\n",
      "Iteration 60, loss = 0.32614153\n",
      "Iteration 61, loss = 0.31866236\n",
      "Iteration 62, loss = 0.31001130\n",
      "Iteration 63, loss = 0.30286184\n",
      "Iteration 64, loss = 0.29651918\n",
      "Iteration 65, loss = 0.28966217\n",
      "Iteration 66, loss = 0.28339577\n",
      "Iteration 67, loss = 0.27719175\n",
      "Iteration 68, loss = 0.27085776\n",
      "Iteration 69, loss = 0.26626943\n",
      "Iteration 70, loss = 0.26065485\n",
      "Iteration 71, loss = 0.25469938\n",
      "Iteration 72, loss = 0.25086111\n",
      "Iteration 73, loss = 0.24627268\n",
      "Iteration 74, loss = 0.24160164\n",
      "Iteration 75, loss = 0.23819079\n",
      "Iteration 76, loss = 0.23352991\n",
      "Iteration 77, loss = 0.23000290\n",
      "Iteration 78, loss = 0.22536568\n",
      "Iteration 79, loss = 0.22079335\n",
      "Iteration 80, loss = 0.21776538\n",
      "Iteration 81, loss = 0.21402941\n",
      "Iteration 82, loss = 0.20997065\n",
      "Iteration 83, loss = 0.20664763\n",
      "Iteration 84, loss = 0.20308431\n",
      "Iteration 85, loss = 0.20024930\n",
      "Iteration 86, loss = 0.19711398\n",
      "Iteration 87, loss = 0.19357861\n",
      "Iteration 88, loss = 0.19113510\n",
      "Iteration 89, loss = 0.18792153\n",
      "Iteration 90, loss = 0.18515190\n",
      "Iteration 91, loss = 0.18217269\n",
      "Iteration 92, loss = 0.18008477\n",
      "Iteration 93, loss = 0.17766189\n",
      "Iteration 94, loss = 0.17502015\n",
      "Iteration 95, loss = 0.17241672\n",
      "Iteration 96, loss = 0.17025842\n",
      "Iteration 97, loss = 0.16890893\n",
      "Iteration 98, loss = 0.16741241\n",
      "Iteration 99, loss = 0.16437622\n",
      "Iteration 100, loss = 0.16190034\n",
      "Iteration 101, loss = 0.15980935\n",
      "Iteration 102, loss = 0.15742693\n",
      "Iteration 103, loss = 0.15576332\n",
      "Iteration 104, loss = 0.15448272\n",
      "Iteration 105, loss = 0.15194218\n",
      "Iteration 106, loss = 0.15048967\n",
      "Iteration 107, loss = 0.14871889\n",
      "Iteration 108, loss = 0.14628981\n",
      "Iteration 109, loss = 0.14469213\n",
      "Iteration 110, loss = 0.14384644\n",
      "Iteration 111, loss = 0.14150350\n",
      "Iteration 112, loss = 0.14006579\n",
      "Iteration 113, loss = 0.13932740\n",
      "Iteration 114, loss = 0.13665817\n",
      "Iteration 115, loss = 0.13545945\n",
      "Iteration 116, loss = 0.13341457\n",
      "Iteration 117, loss = 0.13290814\n",
      "Iteration 118, loss = 0.13096651\n",
      "Iteration 119, loss = 0.12897435\n",
      "Iteration 120, loss = 0.12801138\n",
      "Iteration 121, loss = 0.12685422\n",
      "Iteration 122, loss = 0.12572250\n",
      "Iteration 123, loss = 0.12432207\n",
      "Iteration 124, loss = 0.12292240\n",
      "Iteration 125, loss = 0.12164935\n",
      "Iteration 126, loss = 0.12083216\n",
      "Iteration 127, loss = 0.11926522\n",
      "Iteration 128, loss = 0.11803393\n",
      "Iteration 129, loss = 0.11887722\n",
      "Iteration 130, loss = 0.11598924\n",
      "Iteration 131, loss = 0.11656330\n",
      "Iteration 132, loss = 0.11473188\n",
      "Iteration 133, loss = 0.11308192\n",
      "Iteration 134, loss = 0.11097358\n",
      "Iteration 135, loss = 0.11003668\n",
      "Iteration 136, loss = 0.10915181\n",
      "Iteration 137, loss = 0.10699679\n",
      "Iteration 138, loss = 0.10606366\n",
      "Iteration 139, loss = 0.10482623\n",
      "Iteration 140, loss = 0.10414119\n",
      "Iteration 141, loss = 0.10307167\n",
      "Iteration 142, loss = 0.10199172\n",
      "Iteration 143, loss = 0.10078390\n",
      "Iteration 144, loss = 0.09986583\n",
      "Iteration 145, loss = 0.09899370\n",
      "Iteration 146, loss = 0.09802245\n",
      "Iteration 147, loss = 0.09678132\n",
      "Iteration 148, loss = 0.09600675\n",
      "Iteration 149, loss = 0.09518970\n",
      "Iteration 150, loss = 0.09421678\n"
     ]
    },
    {
     "name": "stderr",
     "output_type": "stream",
     "text": [
      "c:\\python\\python37-32\\lib\\site-packages\\sklearn\\neural_network\\multilayer_perceptron.py:562: ConvergenceWarning: Stochastic Optimizer: Maximum iterations (150) reached and the optimization hasn't converged yet.\n",
      "  % self.max_iter, ConvergenceWarning)\n"
     ]
    }
   ],
   "source": [
    "mlp.fit(x_train, y_train)\n",
    "y_pred = mlp.predict(x_test)"
   ]
  },
  {
   "cell_type": "code",
   "execution_count": 109,
   "metadata": {},
   "outputs": [],
   "source": [
    "loss_values = mlp.loss_curve_"
   ]
  },
  {
   "cell_type": "code",
   "execution_count": 110,
   "metadata": {},
   "outputs": [
    {
     "data": {
      "text/plain": [
       "[<matplotlib.lines.Line2D at 0x12137870>]"
      ]
     },
     "execution_count": 110,
     "metadata": {},
     "output_type": "execute_result"
    },
    {
     "data": {
      "image/png": "[encoded data removed]",
      "text/plain": [
       "<Figure size 432x288 with 1 Axes>"
      ]
     },
     "metadata": {
      "needs_background": "light"
     },
     "output_type": "display_data"
    }
   ],
   "source": [
    "plt.plot(loss_values)"
   ]
  },
  {
   "cell_type": "code",
   "execution_count": 111,
   "metadata": {},
   "outputs": [
    {
     "data": {
      "text/plain": [
       "0.9416666666666667"
      ]
     },
     "execution_count": 111,
     "metadata": {},
     "output_type": "execute_result"
    }
   ],
   "source": [
    "mlp.score(x_test, y_test)"
   ]
  },
  {
   "cell_type": "code",
   "execution_count": 112,
   "metadata": {},
   "outputs": [
    {
     "data": {
      "text/plain": [
       "array([[40,  0,  0,  0,  2,  1,  0,  0,  0,  0],\n",
       "       [ 0, 32,  0,  0,  0,  0,  2,  0,  0,  1],\n",
       "       [ 0,  0, 35,  1,  0,  0,  0,  0,  0,  0],\n",
       "       [ 0,  0,  1, 37,  0,  0,  0,  0,  1,  2],\n",
       "       [ 1,  0,  0,  0, 36,  0,  0,  1,  0,  0],\n",
       "       [ 0,  0,  0,  1,  0, 28,  0,  0,  0,  1],\n",
       "       [ 0,  0,  0,  0,  0,  0, 37,  0,  0,  0],\n",
       "       [ 0,  0,  0,  0,  0,  0,  0, 36,  0,  1],\n",
       "       [ 0,  0,  0,  1,  0,  0,  0,  0, 25,  3],\n",
       "       [ 0,  0,  0,  0,  0,  1,  0,  0,  0, 33]], dtype=int64)"
      ]
     },
     "execution_count": 112,
     "metadata": {},
     "output_type": "execute_result"
    }
   ],
   "source": [
    "cm = confusion_matrix(y_test, y_pred)\n",
    "cm"
   ]
  },
  {
   "cell_type": "code",
   "execution_count": 113,
   "metadata": {},
   "outputs": [],
   "source": [
    "import seaborn as sns"
   ]
  },
  {
   "cell_type": "code",
   "execution_count": 114,
   "metadata": {},
   "outputs": [
    {
     "data": {
      "image/png": "[encoded data removed]",
      "text/plain": [
       "<Figure size 432x288 with 2 Axes>"
      ]
     },
     "metadata": {
      "needs_background": "light"
     },
     "output_type": "display_data"
    }
   ],
   "source": [
    "sns.heatmap(cm, center=True,annot=True)\n",
    "plt.show()"
   ]
  }
 ],
 "metadata": {
  "kernelspec": {
   "display_name": "Python 3",
   "language": "python",
   "name": "python3"
  },
  "language_info": {
   "codemirror_mode": {
    "name": "ipython",
    "version": 3
   },
   "file_extension": ".py",
   "mimetype": "text/x-python",
   "name": "python",
   "nbconvert_exporter": "python",
   "pygments_lexer": "ipython3",
   "version": "3.7.0"
  }
 },
 "nbformat": 4,
 "nbformat_minor": 2
}
